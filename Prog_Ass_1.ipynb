{
 "cells": [
  {
   "cell_type": "code",
   "execution_count": 1,
   "id": "fe0efc6e",
   "metadata": {},
   "outputs": [
    {
     "name": "stdout",
     "output_type": "stream",
     "text": [
      "Hello Python\n"
     ]
    }
   ],
   "source": [
    "#1.\tWrite a Python program to print \"Hello Python\"?\n",
    "print(\"Hello Python\")"
   ]
  },
  {
   "cell_type": "code",
   "execution_count": 7,
   "id": "0475c995",
   "metadata": {},
   "outputs": [
    {
     "name": "stdout",
     "output_type": "stream",
     "text": [
      "Enter the first number56\n",
      "Enter the second number10\n",
      "Enter your code value1\n",
      "66\n"
     ]
    }
   ],
   "source": [
    "#2. Write a Python program to do arithmetical operations addition and division.?\n",
    "a=int(input(\"Enter the first number\"))\n",
    "b=int(input(\"Enter the second number\"))\n",
    "c_val=int(input(\"Enter your code value\"))\n",
    "if c_val == 1:\n",
    "    result=a+b\n",
    "    print(result)\n",
    "elif c_val == 0:\n",
    "    \n",
    "    result=int(a/b)\n",
    "    print(result)"
   ]
  },
  {
   "cell_type": "code",
   "execution_count": 8,
   "id": "0017ce07",
   "metadata": {},
   "outputs": [
    {
     "name": "stdout",
     "output_type": "stream",
     "text": [
      "Enter the radius value4\n",
      "Area of the triangle is: 50.24\n"
     ]
    }
   ],
   "source": [
    "#3.\tWrite a Python program to find the area of a triangle?\n",
    "r=int(input(\"Enter the radius value\"))\n",
    "pi=3.14\n",
    "area=pi*r**2\n",
    "print(\"Area of the triangle is:\",area)"
   ]
  },
  {
   "cell_type": "code",
   "execution_count": 12,
   "id": "daa5f139",
   "metadata": {},
   "outputs": [
    {
     "name": "stdout",
     "output_type": "stream",
     "text": [
      "Enter the value for a:25\n",
      "Enter the value for b:35\n",
      "Values of a and b after swapping:\n",
      "a= 35\n",
      "b= 25\n"
     ]
    }
   ],
   "source": [
    "#4.\tWrite a Python program to swap two variables?\n",
    "a=int(input(\"Enter the value for a:\"))\n",
    "b=int(input(\"Enter the value for b:\"))\n",
    "a,b=b,a\n",
    "print(\"Values of a and b after swapping:\")\n",
    "print('a=',a)\n",
    "print('b=',b)"
   ]
  },
  {
   "cell_type": "code",
   "execution_count": 26,
   "id": "d616244b",
   "metadata": {},
   "outputs": [
    {
     "name": "stdout",
     "output_type": "stream",
     "text": [
      "5\n"
     ]
    }
   ],
   "source": [
    "#5.\tWrite a Python program to generate a random number?\n",
    "import numpy as np\n",
    "print(np.random.randint(1,10))\n"
   ]
  }
 ],
 "metadata": {
  "kernelspec": {
   "display_name": "Python 3 (ipykernel)",
   "language": "python",
   "name": "python3"
  },
  "language_info": {
   "codemirror_mode": {
    "name": "ipython",
    "version": 3
   },
   "file_extension": ".py",
   "mimetype": "text/x-python",
   "name": "python",
   "nbconvert_exporter": "python",
   "pygments_lexer": "ipython3",
   "version": "3.9.7"
  }
 },
 "nbformat": 4,
 "nbformat_minor": 5
}
